{
 "cells": [
  {
   "cell_type": "code",
   "execution_count": 5,
   "id": "da071e9a-c20a-474c-9a2b-45e37a2fe819",
   "metadata": {},
   "outputs": [
    {
     "name": "stdout",
     "output_type": "stream",
     "text": [
      "Loaded 39 articles.\n"
     ]
    }
   ],
   "source": [
    "import pandas as pd\n",
    "import json\n",
    "import re\n",
    "\n",
    "df = pd.read_json('scraped_news_dataset.json')\n",
    "print(f\"Loaded {len(df)} articles.\")\n"
   ]
  },
  {
   "cell_type": "code",
   "execution_count": 6,
   "id": "1c31856a-f459-4708-9643-c038710a852a",
   "metadata": {},
   "outputs": [],
   "source": [
    "df.dropna(subset=['title', 'content'], inplace=True)\n"
   ]
  },
  {
   "cell_type": "code",
   "execution_count": 7,
   "id": "f0481953-8826-4a4c-b35d-21297b670762",
   "metadata": {},
   "outputs": [],
   "source": [
    "def clean_text(text):\n",
    "    if not isinstance(text, str): return \"\"\n",
    "    # Add your cleaning rules using re.sub or string replacement\n",
    "    text = re.sub(r\"Copyright\\s+\\d{4}\\s+The Associated Press\\. All Rights Reserved\\.\", \"\", text, flags=re.IGNORECASE)\n",
    "    # Add more rules for other sources...\n",
    "    text = re.sub(r'\\s+', ' ', text).strip() # Clean whitespace\n",
    "    return text\n",
    "\n",
    "df['cleaned_content'] = df['content'].apply(clean_text)\n",
    "df['cleaned_title'] = df['title'].apply(lambda x: x.lower() if isinstance(x, str) else \"\") # Lowercase title\n",
    "df['cleaned_content'] = df['cleaned_content'].str.lower() # Lowercase content\n"
   ]
  },
  {
   "cell_type": "code",
   "execution_count": 8,
   "id": "ab144b55-3155-4fdd-84cd-e9573f599de6",
   "metadata": {},
   "outputs": [],
   "source": [
    "# Option 1: Keep 'real'/'fake'\n",
    "df['verified_label'] = df['initial_label']\n",
    "\n",
    "# Option 2: Convert to 0/1 (e.g., real=0, fake=1)\n",
    "# label_map = {'real': 0, 'fake': 1}\n",
    "# df['verified_label'] = df['initial_label'].map(label_map)\n"
   ]
  },
  {
   "cell_type": "code",
   "execution_count": null,
   "id": "6e95cd9d-ba2e-4ab2-bc24-62ba4033efa5",
   "metadata": {},
   "outputs": [],
   "source": [
    "output_file_path = 'cleaned_annotated_dataset.csv'\n",
    "# Ensure you select the columns you want to save\n",
    "columns_to_save = ['url', 'cleaned_title', 'cleaned_content', 'author',\n",
    "                   'initial_label', 'verified_label', 'verified_sub_category']\n",
    "df_to_save = df[columns_to_save]\n",
    "df_to_save.to_csv(output_file_path, index=False, encoding='utf-8')\n",
    "print(f\"Cleaned and labeled dataset saved to {output_file_path}\")\n"
   ]
  }
 ],
 "metadata": {
  "kernelspec": {
   "display_name": "Python 3 (ipykernel)",
   "language": "python",
   "name": "python3"
  },
  "language_info": {
   "codemirror_mode": {
    "name": "ipython",
    "version": 3
   },
   "file_extension": ".py",
   "mimetype": "text/x-python",
   "name": "python",
   "nbconvert_exporter": "python",
   "pygments_lexer": "ipython3",
   "version": "3.12.3"
  }
 },
 "nbformat": 4,
 "nbformat_minor": 5
}
