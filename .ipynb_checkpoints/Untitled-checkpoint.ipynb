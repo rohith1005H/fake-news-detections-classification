{
 "cells": [
  {
   "cell_type": "code",
   "execution_count": null,
   "id": "a85512ea-7637-419d-9b81-bad99514dcc9",
   "metadata": {},
   "outputs": [],
   "source": [
    "import pandas as pd\n",
    "\n",
    "# Define the path to your dataset file\n",
    "# Make sure 'news_dataset.csv' is in the same directory as your Python script,\n",
    "# or provide the full file path (e.g., \"/path/to/your/news_dataset.csv\").\n",
    "file_path = \"news_dataset.csv\"\n",
    "\n",
    "try:\n",
    "    # Load the dataset into a pandas DataFrame\n",
    "    df = pd.read_csv(file_path)\n",
    "\n",
    "    # Check if the 'label' column exists in the DataFrame\n",
    "    if 'label' in df.columns:\n",
    "        # Count the occurrences of each unique value in the 'label' column\n",
    "        label_counts = df['label'].value_counts()\n",
    "\n",
    "        # Print the counts\n",
    "        print(\"Counts for each label:\")\n",
    "        print(label_counts)\n",
    "\n",
    "        # Extract 'real' and 'fake' counts specifically (handling cases where one might be missing)\n",
    "        real_count = label_counts.get('real', 0)\n",
    "        fake_count = label_counts.get('fake', 0)\n",
    "\n",
    "        print(f\"\\nNumber of real rows: {real_count}\")\n",
    "        print(f\"Number of fake rows: {fake_count}\")\n",
    "\n",
    "    else:\n",
    "        print(f\"Error: The column 'label' was not found in the file '{file_path}'.\")\n",
    "        print(f\"Available columns are: {df.columns.tolist()}\")\n",
    "\n",
    "except FileNotFoundError:\n",
    "    print(f\"Error: The file '{file_path}' was not found.\")\n",
    "    print(\"Please ensure the file name and path are correct.\")\n",
    "except Exception as e:\n",
    "    print(f\"An error occurred while processing the file: {e}\")\n",
    "\n"
   ]
  }
 ],
 "metadata": {
  "kernelspec": {
   "display_name": "Python 3 (ipykernel)",
   "language": "python",
   "name": "python3"
  },
  "language_info": {
   "codemirror_mode": {
    "name": "ipython",
    "version": 3
   },
   "file_extension": ".py",
   "mimetype": "text/x-python",
   "name": "python",
   "nbconvert_exporter": "python",
   "pygments_lexer": "ipython3",
   "version": "3.12.3"
  }
 },
 "nbformat": 4,
 "nbformat_minor": 5
}
