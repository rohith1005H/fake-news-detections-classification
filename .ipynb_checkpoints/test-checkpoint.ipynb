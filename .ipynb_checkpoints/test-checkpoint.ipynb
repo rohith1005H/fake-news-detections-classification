{
 "cells": [
  {
   "cell_type": "code",
   "execution_count": null,
   "id": "b3e48bc8-4169-4919-9930-48b685b366ca",
   "metadata": {},
   "outputs": [],
   "source": [
    "import pandas as pd\n",
    "\n",
    "# Load a dataset (let's use a CSV for example)\n",
    "df = pd.read_csv('/home/rohtih/mini/archive/WELFake_Dataset.csv')  # replace with your actual dataset path\n",
    "\n",
    "# Show top 100 rows\n",
    "print(df.head(100))\n"
   ]
  }
 ],
 "metadata": {
  "kernelspec": {
   "display_name": "Python 3 (ipykernel)",
   "language": "python",
   "name": "python3"
  },
  "language_info": {
   "codemirror_mode": {
    "name": "ipython",
    "version": 3
   },
   "file_extension": ".py",
   "mimetype": "text/x-python",
   "name": "python",
   "nbconvert_exporter": "python",
   "pygments_lexer": "ipython3",
   "version": "3.12.3"
  }
 },
 "nbformat": 4,
 "nbformat_minor": 5
}
